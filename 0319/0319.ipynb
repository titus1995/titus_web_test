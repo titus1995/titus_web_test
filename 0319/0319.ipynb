{
 "cells": [
  {
   "cell_type": "markdown",
   "metadata": {},
   "source": [
    "#HW1"
   ]
  },
  {
   "cell_type": "code",
   "execution_count": 1,
   "metadata": {},
   "outputs": [
    {
     "name": "stdout",
     "output_type": "stream",
     "text": [
      "請輸入數字串: 333332222\n"
     ]
    },
    {
     "data": {
      "text/plain": [
       "True"
      ]
     },
     "execution_count": 1,
     "metadata": {},
     "output_type": "execute_result"
    }
   ],
   "source": [
    "x = input(\"請輸入數字串: \")\n",
    "len(set(x))!=len(x)"
   ]
  },
  {
   "cell_type": "markdown",
   "metadata": {},
   "source": [
    "#HW2"
   ]
  },
  {
   "cell_type": "code",
   "execution_count": 2,
   "metadata": {},
   "outputs": [
    {
     "name": "stdout",
     "output_type": "stream",
     "text": [
      "請猜: 5\n",
      "TRY AGAIN!\n",
      "You Guess:155\n",
      "TYR AGAIN!\n",
      "You Guess:678\n",
      "TYR AGAIN!\n",
      "You Guess:8\n",
      "You got it! The answer is 8\n"
     ]
    }
   ],
   "source": [
    "guess = int(input(\"請猜: \"))\n",
    "while (guess!=8):\n",
    "    if (guess>8):\n",
    "        print('TYR AGAIN!')\n",
    "    elif(guess<8):\n",
    "        print('TRY AGAIN!')\n",
    "    guess=int(input('You Guess:'))\n",
    "      \n",
    "print('You got it! The answer is 8')"
   ]
  },
  {
   "cell_type": "markdown",
   "metadata": {},
   "source": [
    "#HW3"
   ]
  },
  {
   "cell_type": "code",
   "execution_count": 3,
   "metadata": {},
   "outputs": [
    {
     "name": "stdout",
     "output_type": "stream",
     "text": [
      "1*1=1,1*2=2,1*3=3,1*4=4,1*5=5,1*6=6,1*7=7,1*8=8,1*9=9,2*1=2,2*2=4,2*3=6,2*4=8,2*5=10,2*6=12,2*7=14,2*8=16,2*9=18,3*1=3,3*2=6,3*3=9,3*4=12,3*5=15,3*6=18,3*7=21,3*8=24,3*9=27,4*1=4,4*2=8,4*3=12,4*4=16,4*5=20,4*6=24,4*7=28,4*8=32,4*9=36,5*1=5,5*2=10,5*3=15,5*4=20,5*5=25,5*6=30,5*7=35,5*8=40,5*9=45,6*1=6,6*2=12,6*3=18,6*4=24,6*5=30,6*6=36,6*7=42,6*8=48,6*9=54,7*1=7,7*2=14,7*3=21,7*4=28,7*5=35,7*6=42,7*7=49,7*8=56,7*9=63,8*1=8,8*2=16,8*3=24,8*4=32,8*5=40,8*6=48,8*7=56,8*8=64,8*9=72,9*1=9,9*2=18,9*3=27,9*4=36,9*5=45,9*6=54,9*7=63,9*8=72,9*9=81\n"
     ]
    }
   ],
   "source": [
    "print (','.join( [','.join( ['%d*%d=%d' % (j,i,i*j) for i in range(1,10)]\n",
    ") for j in range(1,10)]))"
   ]
  },
  {
   "cell_type": "markdown",
   "metadata": {},
   "source": [
    "#HW4"
   ]
  },
  {
   "cell_type": "code",
   "execution_count": null,
   "metadata": {},
   "outputs": [],
   "source": [
    "a_list = [ ] \n",
    "\n",
    "for number in range(1,6): \n",
    "\n",
    "    if number % 2 == 1: \n",
    "\n",
    "        a_list.append(number)"
   ]
  },
  {
   "cell_type": "code",
   "execution_count": 19,
   "metadata": {},
   "outputs": [
    {
     "data": {
      "text/plain": [
       "[1, 3, 5]"
      ]
     },
     "execution_count": 19,
     "metadata": {},
     "output_type": "execute_result"
    }
   ],
   "source": [
    "a_list"
   ]
  },
  {
   "cell_type": "markdown",
   "metadata": {},
   "source": [
    "#HW5"
   ]
  },
  {
   "cell_type": "code",
   "execution_count": 21,
   "metadata": {},
   "outputs": [
    {
     "name": "stdout",
     "output_type": "stream",
     "text": [
      "(1, '*', 1, '=', 1)\n",
      "(1, '*', 2, '=', 2)\n",
      "(1, '*', 3, '=', 3)\n",
      "(1, '*', 4, '=', 4)\n",
      "(1, '*', 5, '=', 5)\n",
      "(1, '*', 6, '=', 6)\n",
      "(1, '*', 7, '=', 7)\n",
      "(1, '*', 8, '=', 8)\n",
      "(1, '*', 9, '=', 9)\n",
      "(2, '*', 1, '=', 2)\n",
      "(2, '*', 2, '=', 4)\n",
      "(2, '*', 3, '=', 6)\n",
      "(2, '*', 4, '=', 8)\n",
      "(2, '*', 5, '=', 10)\n",
      "(2, '*', 6, '=', 12)\n",
      "(2, '*', 7, '=', 14)\n",
      "(2, '*', 8, '=', 16)\n",
      "(2, '*', 9, '=', 18)\n",
      "(3, '*', 1, '=', 3)\n",
      "(3, '*', 2, '=', 6)\n",
      "(3, '*', 3, '=', 9)\n",
      "(3, '*', 4, '=', 12)\n",
      "(3, '*', 5, '=', 15)\n",
      "(3, '*', 6, '=', 18)\n",
      "(3, '*', 7, '=', 21)\n",
      "(3, '*', 8, '=', 24)\n",
      "(3, '*', 9, '=', 27)\n",
      "(4, '*', 1, '=', 4)\n",
      "(4, '*', 2, '=', 8)\n",
      "(4, '*', 3, '=', 12)\n",
      "(4, '*', 4, '=', 16)\n",
      "(4, '*', 5, '=', 20)\n",
      "(4, '*', 6, '=', 24)\n",
      "(4, '*', 7, '=', 28)\n",
      "(4, '*', 8, '=', 32)\n",
      "(4, '*', 9, '=', 36)\n",
      "(5, '*', 1, '=', 5)\n",
      "(5, '*', 2, '=', 10)\n",
      "(5, '*', 3, '=', 15)\n",
      "(5, '*', 4, '=', 20)\n",
      "(5, '*', 5, '=', 25)\n",
      "(5, '*', 6, '=', 30)\n",
      "(5, '*', 7, '=', 35)\n",
      "(5, '*', 8, '=', 40)\n",
      "(5, '*', 9, '=', 45)\n",
      "(6, '*', 1, '=', 6)\n",
      "(6, '*', 2, '=', 12)\n",
      "(6, '*', 3, '=', 18)\n",
      "(6, '*', 4, '=', 24)\n",
      "(6, '*', 5, '=', 30)\n",
      "(6, '*', 6, '=', 36)\n",
      "(6, '*', 7, '=', 42)\n",
      "(6, '*', 8, '=', 48)\n",
      "(6, '*', 9, '=', 54)\n",
      "(7, '*', 1, '=', 7)\n",
      "(7, '*', 2, '=', 14)\n",
      "(7, '*', 3, '=', 21)\n",
      "(7, '*', 4, '=', 28)\n",
      "(7, '*', 5, '=', 35)\n",
      "(7, '*', 6, '=', 42)\n",
      "(7, '*', 7, '=', 49)\n",
      "(7, '*', 8, '=', 56)\n",
      "(7, '*', 9, '=', 63)\n",
      "(8, '*', 1, '=', 8)\n",
      "(8, '*', 2, '=', 16)\n",
      "(8, '*', 3, '=', 24)\n",
      "(8, '*', 4, '=', 32)\n",
      "(8, '*', 5, '=', 40)\n",
      "(8, '*', 6, '=', 48)\n",
      "(8, '*', 7, '=', 56)\n",
      "(8, '*', 8, '=', 64)\n",
      "(8, '*', 9, '=', 72)\n",
      "(9, '*', 1, '=', 9)\n",
      "(9, '*', 2, '=', 18)\n",
      "(9, '*', 3, '=', 27)\n",
      "(9, '*', 4, '=', 36)\n",
      "(9, '*', 5, '=', 45)\n",
      "(9, '*', 6, '=', 54)\n",
      "(9, '*', 7, '=', 63)\n",
      "(9, '*', 8, '=', 72)\n",
      "(9, '*', 9, '=', 81)\n"
     ]
    }
   ],
   "source": [
    "cells = [(row, '*', col, '=', row*col) for row in range(1,10) for col in range(1,10)]\n",
    "for cell in cells:\n",
    "    print(cell)"
   ]
  },
  {
   "cell_type": "markdown",
   "metadata": {},
   "source": [
    "#HW6"
   ]
  },
  {
   "cell_type": "code",
   "execution_count": 20,
   "metadata": {},
   "outputs": [
    {
     "data": {
      "text/plain": [
       "('好像沒這種顏色', 'XX')"
      ]
     },
     "execution_count": 20,
     "metadata": {},
     "output_type": "execute_result"
    }
   ],
   "source": [
    "color = \"XX\"\n",
    "def iron_man_color():\n",
    "\n",
    "    if color == \"紅色\":\n",
    "        return(\"鋼鐵人盔甲是紅色的\")\n",
    "    elif color == \"綠色\":\n",
    "        return(\"鋼鐵人其實也可以參考浩克的顏色\")\n",
    "    elif color == \"藍色\":\n",
    "        return(\"鋼鐵人變成藍色小精靈也不錯\")\n",
    "    else:\n",
    "        return(\"好像沒這種顏色\",color)\n",
    "iron_man_color() "
   ]
  },
  {
   "cell_type": "markdown",
   "metadata": {},
   "source": [
    "#HW7"
   ]
  },
  {
   "cell_type": "code",
   "execution_count": 22,
   "metadata": {},
   "outputs": [
    {
     "name": "stdout",
     "output_type": "stream",
     "text": [
      "輸入算式: 50+60\n",
      "110\n"
     ]
    }
   ],
   "source": [
    "def cal(str):\n",
    "    print(eval(str))\n",
    "a=input(\"輸入算式: \")\n",
    "cal(a)"
   ]
  },
  {
   "cell_type": "code",
   "execution_count": null,
   "metadata": {},
   "outputs": [],
   "source": []
  }
 ],
 "metadata": {
  "kernelspec": {
   "display_name": "Python 3",
   "language": "python",
   "name": "python3"
  },
  "language_info": {
   "codemirror_mode": {
    "name": "ipython",
    "version": 3
   },
   "file_extension": ".py",
   "mimetype": "text/x-python",
   "name": "python",
   "nbconvert_exporter": "python",
   "pygments_lexer": "ipython3",
   "version": "3.6.4"
  }
 },
 "nbformat": 4,
 "nbformat_minor": 2
}
